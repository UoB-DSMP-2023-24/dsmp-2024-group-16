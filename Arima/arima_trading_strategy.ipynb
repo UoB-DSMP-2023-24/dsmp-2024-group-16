{
 "cells": [
  {
   "cell_type": "code",
   "execution_count": 1,
   "metadata": {},
   "outputs": [],
   "source": [
    "import numpy as np\n",
    "import pandas as pd\n",
    "from statsmodels.tsa.arima.model import ARIMA"
   ]
  },
  {
   "cell_type": "markdown",
   "metadata": {},
   "source": [
    "This is a simple implement of stock trading stragety. We first use Arima model to predict the next days stock close price. Then we make trading decisions based on predicted trend changes."
   ]
  },
  {
   "cell_type": "code",
   "execution_count": 2,
   "metadata": {},
   "outputs": [],
   "source": [
    "# Load data\n",
    "data = pd.read_csv('Tape.csv')\n",
    "\n",
    "# Using Arima model to predict future stock prices\n",
    "model = ARIMA(data['Close'], order=(5, 1, 0))\n",
    "model_fit = model.fit()\n",
    "forecast = model_fit.forecast(steps=25)  # Forecasting the next 25 days"
   ]
  },
  {
   "cell_type": "markdown",
   "metadata": {},
   "source": [
    "The trading stragety is:\n",
    "\n",
    "Buy condition: If the predicted price shows an upward trend in the next few days (for example, a continuous 3-day prediction of price increase), then buy at the beginning of the first day.\n",
    "\n",
    "Sell condition: If holding the stock, the predicted price shows a downward trend in the next few days (for example, a continuous 3-day prediction of price decrease), then sell at the beginning of the first day."
   ]
  },
  {
   "cell_type": "code",
   "execution_count": 3,
   "metadata": {},
   "outputs": [],
   "source": [
    "# Trading strategy\n",
    "profit = 0.0\n",
    "is_holding = False\n",
    "buy_price = 0.0\n",
    "trend_days = 3  # Trend is determined by the difference of the last 3 days\n",
    "\n",
    "for i in range(len(forecast) - trend_days):\n",
    "    trend = forecast[i+1:i+trend_days+1].diff().dropna()\n",
    "    \n",
    "    if not is_holding and all(trend > 0):\n",
    "        # If not holding and forecast is trending up, buy\n",
    "        is_holding = True\n",
    "        buy_price = forecast.iloc[i]\n",
    "    elif is_holding and all(trend < 0):\n",
    "        # If holding and forecast is trending down, sell\n",
    "        profit += forecast.iloc[i] - buy_price\n",
    "        is_holding = False\n",
    "        buy_price = 0.0  # Reset buy price"
   ]
  },
  {
   "cell_type": "code",
   "execution_count": 4,
   "metadata": {},
   "outputs": [],
   "source": [
    "# Sell remaining stocks if still holding\n",
    "if is_holding:\n",
    "    profit += forecast.iloc[-1] - buy_price\n"
   ]
  },
  {
   "cell_type": "code",
   "execution_count": 5,
   "metadata": {},
   "outputs": [
    {
     "name": "stdout",
     "output_type": "stream",
     "text": [
      "Estimated Profit: 3.8365609204326745\n"
     ]
    }
   ],
   "source": [
    "print(f\"Estimated Profit: {profit}\")"
   ]
  }
 ],
 "metadata": {
  "kernelspec": {
   "display_name": "base",
   "language": "python",
   "name": "python3"
  },
  "language_info": {
   "codemirror_mode": {
    "name": "ipython",
    "version": 3
   },
   "file_extension": ".py",
   "mimetype": "text/x-python",
   "name": "python",
   "nbconvert_exporter": "python",
   "pygments_lexer": "ipython3",
   "version": "3.11.4"
  }
 },
 "nbformat": 4,
 "nbformat_minor": 2
}
