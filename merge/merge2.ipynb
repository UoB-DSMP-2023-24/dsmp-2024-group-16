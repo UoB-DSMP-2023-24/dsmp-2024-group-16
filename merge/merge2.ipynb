{
 "cells": [
  {
   "cell_type": "code",
   "execution_count": 20,
   "id": "initial_id",
   "metadata": {
    "collapsed": true,
    "ExecuteTime": {
     "end_time": "2024-04-07T00:19:13.132757Z",
     "start_time": "2024-04-07T00:19:13.101686Z"
    }
   },
   "outputs": [],
   "source": [
    "import pandas as pd\n",
    "import ast"
   ]
  },
  {
   "cell_type": "code",
   "outputs": [
    {
     "data": {
      "text/plain": "(   Timestamp       Bid         Ask\n 0      0.000        []          []\n 1      0.279  [[1, 6]]          []\n 2      1.333  [[1, 6]]  [[800, 1]]\n 3      1.581  [[1, 6]]  [[799, 1]]\n 4      1.643  [[1, 6]]  [[798, 1]],\n    Timestamp  Price  Volume\n 0     10.881    267       1\n 1     11.067    269       1\n 2     11.222    267       2\n 3     12.338    270       2\n 4     13.733    267       3)"
     },
     "execution_count": 58,
     "metadata": {},
     "output_type": "execute_result"
    }
   ],
   "source": [
    "# temporarily deprecated\n",
    "\n",
    "# Read the newly provided LOB data, adjusting for the updated indexing\n",
    "lob_csv_path = '../lob_full2.csv'  # Updated file path\n",
    "\n",
    "# Reading the updated LOB CSV file into a pandas DataFrame\n",
    "lob_df = pd.read_csv(lob_csv_path)\n",
    "lob_df.columns = ['Timestamp', 'Bid', 'Ask']\n",
    "lob_df['Bid'] = lob_df['Bid'].apply(lambda x: eval(x) if x.startswith('[') else [])\n",
    "lob_df['Ask'] = lob_df['Ask'].apply(lambda x: eval(x) if x.startswith('[') else [])\n",
    "\n",
    "# I think this does the same thing\n",
    "# lob_df['Bid'] = lob_df['Bid'].apply(eval)\n",
    "# lob_df['Ask'] = lob_df['Ask'].apply(eval)\n",
    "\n",
    "# Correcting tape data reading, including the first row as actual data\n",
    "tape_csv_path = '../Tapes/UoB_Set01_2025-01-02tapes.csv'  # Tape file path remains the same\n",
    "tape_df = pd.read_csv(tape_csv_path, header=None, skiprows=0)\n",
    "tape_df.columns = ['Timestamp', 'Price', 'Volume']\n",
    "\n",
    "tape_df['Price'] = tape_df['Price'].astype(int)\n",
    "tape_df['Volume'] = tape_df['Volume'].astype(int)\n",
    "\n",
    "# Display the first few rows of each DataFrame to confirm correct loading\n",
    "lob_df.head(), tape_df.head()\n"
   ],
   "metadata": {
    "collapsed": false,
    "ExecuteTime": {
     "end_time": "2024-04-07T01:22:58.254435Z",
     "start_time": "2024-04-07T01:22:43.305470Z"
    }
   },
   "id": "e0aab1a2404cf9b9",
   "execution_count": 58
  },
  {
   "cell_type": "code",
   "outputs": [
    {
     "data": {
      "text/plain": "(   Timestamp  Price  Volume\n 0     10.881    267       1\n 1     11.067    269       1\n 2     11.222    267       2\n 3     12.338    270       2\n 4     13.733    267       3,\n [{'Timestamp': 0.0, 'Bid': [], 'Ask': []},\n  {'Timestamp': 0.279, 'Bid': [[1, 6]], 'Ask': []},\n  {'Timestamp': 1.333, 'Bid': [[1, 6]], 'Ask': [[800, 1]]},\n  {'Timestamp': 1.581, 'Bid': [[1, 6]], 'Ask': [[799, 1]]},\n  {'Timestamp': 1.643, 'Bid': [[1, 6]], 'Ask': [[798, 1]]}])"
     },
     "execution_count": 24,
     "metadata": {},
     "output_type": "execute_result"
    }
   ],
   "source": [
    "def parse_bid_ask_columns(row):\n",
    "    row['Bid'] = ast.literal_eval(row['Bid'])\n",
    "    row['Ask'] = ast.literal_eval(row['Ask'])\n",
    "    return row\n",
    "\n",
    "# Load the tape data\n",
    "tape_data_path = 'tape_short.csv'\n",
    "tape_data = pd.read_csv(tape_data_path, header=None)\n",
    "tape_data.columns = ['Timestamp', 'Price', 'Volume']\n",
    "\n",
    "# Load the LOB data\n",
    "lob_data_path = 'lob_short.csv'\n",
    "lob_data = pd.read_csv(lob_data_path)\n",
    "\n",
    "# Apply the parsing function to the LOB data\n",
    "lob_data = lob_data.apply(parse_bid_ask_columns, axis=1)\n",
    "\n",
    "# Convert LOB data to a list of dictionaries for easier manipulation\n",
    "lob_data_list = lob_data.to_dict('records')\n",
    "\n",
    "tape_data.head(), lob_data_list[:5]"
   ],
   "metadata": {
    "collapsed": false,
    "ExecuteTime": {
     "end_time": "2024-04-07T00:20:51.932181Z",
     "start_time": "2024-04-07T00:20:51.920274Z"
    }
   },
   "id": "9e07d21da2aaa208",
   "execution_count": 24
  },
  {
   "cell_type": "code",
   "outputs": [],
   "source": [
    "def merge_data(tape_df, lob_df):\n",
    "    # Initialize merged data list\n",
    "    merged_data = []\n",
    "    tape_idx, lob_idx = 0, 0\n",
    "    \n",
    "    while tape_idx < len(tape_df) and lob_idx < len(lob_df):\n",
    "        # Get the current row of tape and LOB data\n",
    "        tape_row = tape_df.iloc[tape_idx]\n",
    "        lob_row = lob_df.iloc[lob_idx]\n",
    "        bids, asks = lob_row['Bid'], lob_row['Ask']\n",
    "        price, volume = int(tape_row['Price']), int(tape_row['Volume'])\n",
    "        \n",
    "        if tape_row['Timestamp'] < lob_row['Timestamp']:\n",
    "            price_in_bid = any(price == bid[0] for bid in merged_data[-1][1])\n",
    "            price_in_ask = any(price == ask[0] for ask in merged_data[-1][2])\n",
    "            # Tape data comes before LOB data, insert tape data into new LOB row\n",
    "            new_bid = [price, volume]\n",
    "            new_ask = [price, volume]\n",
    "            new_bids = merged_data[-1][1].copy()\n",
    "            new_asks = (merged_data[-1][2].copy())\n",
    "            if price_in_ask:\n",
    "                new_bids.insert(0, new_bid)\n",
    "            if price_in_bid:\n",
    "                new_asks.insert(0, new_ask)\n",
    "            merged_data.append([tape_row['Timestamp'], new_bids, new_asks])\n",
    "            tape_idx += 1\n",
    "        elif tape_row['Timestamp'] == lob_row['Timestamp']:\n",
    "            # Check for price in bids or asks and adjust accordingly\n",
    "            price_in_bid = any(price == bid[0] for bid in bids)\n",
    "            price_in_ask = any(price == ask[0] for ask in asks)\n",
    "            if price_in_bid:\n",
    "                # If price is in bid, add transaction to start of ask list\n",
    "                asks.insert(0, [price, volume])\n",
    "            if price_in_ask:\n",
    "                # If price is in ask, add transaction to start of bid list\n",
    "                bids.insert(0, [price, volume])\n",
    "            # Add the modified LOB row to merged data\n",
    "            merged_data.append([lob_row['Timestamp'], bids, asks])\n",
    "            tape_idx += 1\n",
    "            lob_idx += 1\n",
    "        else:\n",
    "            # LOB data comes before tape data, add LOB data to merged data\n",
    "            merged_data.append([lob_row['Timestamp'], bids, asks])\n",
    "            lob_idx += 1\n",
    "    \n",
    "    # Handle remaining data in either dataset\n",
    "    while tape_idx < len(tape_df):\n",
    "        tape_row = tape_df.iloc[tape_idx]\n",
    "        # Assuming inheritance of bid/ask from the last entry of merged_data if available\n",
    "        last_bids, last_asks = merged_data[-1][1:3] if merged_data else ([], [])\n",
    "        new_bid = [price, volume]\n",
    "        new_ask = [price, volume]\n",
    "        # Insert the transaction at the start of both bid and ask lists\n",
    "        merged_data.append([tape_row['Timestamp'], [new_bid] + last_bids, [new_ask] + last_asks])\n",
    "        tape_idx += 1\n",
    "    \n",
    "    while lob_idx < len(lob_df):\n",
    "        lob_row = lob_df.iloc[lob_idx]\n",
    "        bids = (lob_row['Bid'])\n",
    "        asks = (lob_row['Ask'])\n",
    "        merged_data.append([lob_row['Timestamp'], bids, asks])\n",
    "        lob_idx += 1\n",
    "    \n",
    "    # Convert the merged data to a DataFrame\n",
    "    merged_df = pd.DataFrame(merged_data, columns=['Timestamp', 'Bid', 'Ask'])\n",
    "    return merged_df\n",
    "\n",
    "# Merge the tape and LOB data into a single DataFrame\n",
    "merged_df = merge_data(tape_df, lob_df)\n",
    "merged_df.to_csv('merged_lob.csv', index=False)"
   ],
   "metadata": {
    "collapsed": false,
    "ExecuteTime": {
     "end_time": "2024-04-07T01:23:58.831807Z",
     "start_time": "2024-04-07T01:23:43.543906Z"
    }
   },
   "id": "bca46dfe291ff3d0",
   "execution_count": 59
  }
 ],
 "metadata": {
  "kernelspec": {
   "display_name": "Python 3",
   "language": "python",
   "name": "python3"
  },
  "language_info": {
   "codemirror_mode": {
    "name": "ipython",
    "version": 2
   },
   "file_extension": ".py",
   "mimetype": "text/x-python",
   "name": "python",
   "nbconvert_exporter": "python",
   "pygments_lexer": "ipython2",
   "version": "2.7.6"
  }
 },
 "nbformat": 4,
 "nbformat_minor": 5
}
