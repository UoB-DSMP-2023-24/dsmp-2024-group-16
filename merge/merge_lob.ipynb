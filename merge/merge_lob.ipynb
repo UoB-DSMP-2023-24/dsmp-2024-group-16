{
 "cells": [
  {
   "cell_type": "code",
   "outputs": [],
   "source": [
    "import pandas as pd"
   ],
   "metadata": {
    "collapsed": false,
    "ExecuteTime": {
     "end_time": "2024-03-21T13:04:14.994104Z",
     "start_time": "2024-03-21T13:04:14.991032Z"
    }
   },
   "id": "ad6956f369ec0a64",
   "execution_count": 13
  },
  {
   "cell_type": "code",
   "outputs": [
    {
     "data": {
      "text/plain": "(   Timestamp       Bid         Ask\n 0      0.000        []          []\n 1      0.279  [[1, 6]]          []\n 2      1.333  [[1, 6]]  [[800, 1]]\n 3      1.581  [[1, 6]]  [[799, 1]]\n 4      1.643  [[1, 6]]  [[798, 1]],\n    Timestamp  Price  Volume\n 0     10.881    267       1\n 1     11.067    269       1\n 2     11.222    267       2\n 3     12.338    270       2\n 4     13.733    267       3)"
     },
     "execution_count": 20,
     "metadata": {},
     "output_type": "execute_result"
    }
   ],
   "source": [
    "# Read the newly provided LOB data, adjusting for the updated indexing\n",
    "lob_csv_path = 'lob_short.csv'  # Updated file path\n",
    "\n",
    "# Reading the updated LOB CSV file into a pandas DataFrame\n",
    "lob_df = pd.read_csv(lob_csv_path)\n",
    "lob_df.columns = ['Timestamp', 'Bid', 'Ask']\n",
    "lob_df['Bid'] = lob_df['Bid'].apply(lambda x: eval(x) if x.startswith('[') else [])\n",
    "lob_df['Ask'] = lob_df['Ask'].apply(lambda x: eval(x) if x.startswith('[') else [])\n",
    "\n",
    "# I think this does the same thing\n",
    "# lob_df['Bid'] = lob_df['Bid'].apply(eval)\n",
    "# lob_df['Ask'] = lob_df['Ask'].apply(eval)\n",
    "\n",
    "# Correcting tape data reading, including the first row as actual data\n",
    "tape_csv_path = 'tape_short.csv'  # Tape file path remains the same\n",
    "tape_df = pd.read_csv(tape_csv_path, header=None, skiprows=0)\n",
    "tape_df.columns = ['Timestamp', 'Price', 'Volume']\n",
    "\n",
    "tape_df['Price'] = tape_df['Price'].astype(int)\n",
    "tape_df['Volume'] = tape_df['Volume'].astype(int)\n",
    "\n",
    "# Display the first few rows of each DataFrame to confirm correct loading\n",
    "lob_df.head(), tape_df.head()\n"
   ],
   "metadata": {
    "collapsed": false,
    "ExecuteTime": {
     "end_time": "2024-03-21T13:11:27.018061Z",
     "start_time": "2024-03-21T13:11:27.003049Z"
    }
   },
   "id": "bffe159655d49774",
   "execution_count": 20
  },
  {
   "cell_type": "code",
   "outputs": [],
   "source": [
    "# Initialize a new DataFrame for merged data\n",
    "merged_lob_df = lob_df.copy()\n",
    "\n",
    "# Iterate through each row in the tape DataFrame\n",
    "for index, tape_row in tape_df.iterrows():\n",
    "    tape_timestamp = tape_row['Timestamp']\n",
    "    price_volume_pair = [tape_row['Price'], tape_row['Volume']]\n",
    "\n",
    "    # Check if this timestamp already exists in the LOB DataFrame\n",
    "    if tape_timestamp not in lob_df['Timestamp'].values:\n",
    "        # Find the last LOB entry before this tape timestamp\n",
    "        last_lob_entry = merged_lob_df[merged_lob_df['Timestamp'] < tape_timestamp].iloc[-1]\n",
    "\n",
    "        # Copy the last LOB entry and update it with the new timestamp and tape data\n",
    "        new_bid_list = [price_volume_pair] + last_lob_entry['Bid']\n",
    "        new_ask_list = [price_volume_pair] + last_lob_entry['Ask']\n",
    "        new_lob_entry = pd.DataFrame({\n",
    "            'Timestamp': [tape_timestamp],\n",
    "            'Bid': [new_bid_list],\n",
    "            'Ask': [new_ask_list]\n",
    "        })\n",
    "\n",
    "        # Append the new entry to the merged LOB DataFrame\n",
    "        merged_lob_df = pd.concat([merged_lob_df, new_lob_entry], ignore_index=True)\n",
    "\n",
    "# Sort the merged LOB DataFrame by Timestamp\n",
    "merged_lob_df.sort_values(by='Timestamp', inplace=True)\n",
    "merged_lob_df.reset_index(drop=True, inplace=True)\n",
    "\n",
    "# Display the merged LOB DataFrame\n",
    "merged_lob_df.tail()  # Show the last few rows to confirm the new entries\n",
    "# output to csv\n",
    "merged_lob_df.to_csv('merged_lob.csv', index=False)"
   ],
   "metadata": {
    "collapsed": false,
    "ExecuteTime": {
     "end_time": "2024-03-21T14:24:20.231265Z",
     "start_time": "2024-03-21T14:24:20.222797Z"
    }
   },
   "id": "330a0b2d786c7df5",
   "execution_count": 22
  }
 ],
 "metadata": {
  "kernelspec": {
   "display_name": "Python 3",
   "language": "python",
   "name": "python3"
  },
  "language_info": {
   "codemirror_mode": {
    "name": "ipython",
    "version": 2
   },
   "file_extension": ".py",
   "mimetype": "text/x-python",
   "name": "python",
   "nbconvert_exporter": "python",
   "pygments_lexer": "ipython2",
   "version": "2.7.6"
  }
 },
 "nbformat": 4,
 "nbformat_minor": 5
}
