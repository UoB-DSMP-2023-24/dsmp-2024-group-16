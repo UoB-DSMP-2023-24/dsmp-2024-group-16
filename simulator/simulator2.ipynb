{
 "cells": [
  {
   "cell_type": "code",
   "execution_count": 17,
   "id": "initial_id",
   "metadata": {
    "collapsed": true,
    "ExecuteTime": {
     "end_time": "2024-03-03T14:30:36.780695Z",
     "start_time": "2024-03-03T14:30:36.778307Z"
    }
   },
   "outputs": [],
   "source": [
    "import pandas as pd\n",
    "import numpy as np\n",
    "import matplotlib.pyplot as plt\n",
    "import ast"
   ]
  },
  {
   "cell_type": "code",
   "outputs": [
    {
     "data": {
      "text/plain": "(             timestamp  transaction_price\n 0  2025-01-02 00:00:10              267.0\n 1  2025-01-02 00:00:11              268.0\n 2  2025-01-02 00:00:12              270.0\n 3  2025-01-02 00:00:13              267.0\n 4  2025-01-02 00:00:14              267.0,\n    10.881   267   1\n 0  11.067   269   1\n 1  11.222   267   2\n 2  12.338   270   2\n 3  13.733   267   3\n 4  18.321   265   2,\n    Unnamed: 0  Timestamp       Bid         Ask\n 0           0      0.000        []          []\n 1           1      0.279  [[1, 6]]          []\n 2           2      1.333  [[1, 6]]  [[800, 1]]\n 3           3      1.581  [[1, 6]]  [[799, 1]]\n 4           4      1.643  [[1, 6]]  [[798, 1]])"
     },
     "execution_count": 18,
     "metadata": {},
     "output_type": "execute_result"
    }
   ],
   "source": [
    "# Load the datasets\n",
    "predicted_tape_path = '../predicted_tape.csv'\n",
    "real_tape_path = '../Tapes/UoB_Set01_2025-01-02tapes.csv'\n",
    "lob_dataset_path = '../lob.csv'\n",
    "\n",
    "predicted_tape = pd.read_csv(predicted_tape_path)\n",
    "real_tape = pd.read_csv(real_tape_path)\n",
    "lob_dataset = pd.read_csv(lob_dataset_path)\n",
    "\n",
    "# Display the first few rows of each dataset to understand their structure\n",
    "predicted_tape.head(), real_tape.head(), lob_dataset.head()\n"
   ],
   "metadata": {
    "collapsed": false,
    "ExecuteTime": {
     "end_time": "2024-03-03T14:30:37.193804Z",
     "start_time": "2024-03-03T14:30:36.782140Z"
    }
   },
   "id": "b9c62ca3c672baad",
   "execution_count": 18
  },
  {
   "cell_type": "code",
   "outputs": [
    {
     "data": {
      "text/plain": "(   price  quantity               timestamp\n 0    269         1 2025-01-02 00:00:11.067\n 1    267         2 2025-01-02 00:00:11.222\n 2    270         2 2025-01-02 00:00:12.338\n 3    267         3 2025-01-02 00:00:13.733\n 4    265         2 2025-01-02 00:00:18.321,\n         Bid         Ask               timestamp\n 0        []          [] 2025-01-02 00:00:00.000\n 1  [[1, 6]]          [] 2025-01-02 00:00:00.279\n 2  [[1, 6]]  [[800, 1]] 2025-01-02 00:00:01.333\n 3  [[1, 6]]  [[799, 1]] 2025-01-02 00:00:01.581\n 4  [[1, 6]]  [[798, 1]] 2025-01-02 00:00:01.643)"
     },
     "execution_count": 19,
     "metadata": {},
     "output_type": "execute_result"
    }
   ],
   "source": [
    "# Assign column names to the Real Tape dataset for clarity\n",
    "real_tape.columns = ['seconds_from_midnight', 'price', 'quantity']\n",
    "\n",
    "# Convert the 'seconds_from_midnight' to a datetime format, using the base date of 2025-01-02\n",
    "base_date = pd.Timestamp('2025-01-02')\n",
    "real_tape['timestamp'] = real_tape['seconds_from_midnight'].apply(lambda x: base_date + pd.Timedelta(seconds=x))\n",
    "\n",
    "# Drop the original 'seconds_from_midnight' column as it's no longer needed\n",
    "real_tape.drop(columns=['seconds_from_midnight'], inplace=True)\n",
    "\n",
    "# Convert the LOB Dataset's Timestamp from seconds to a datetime format\n",
    "lob_dataset['timestamp'] = base_date + pd.to_timedelta(lob_dataset['Timestamp'], unit='s')\n",
    "lob_dataset.drop(columns=['Unnamed: 0', 'Timestamp'], inplace=True)\n",
    "\n",
    "# Let's check the first few rows of both datasets after conversion\n",
    "real_tape.head(), lob_dataset.head()\n"
   ],
   "metadata": {
    "collapsed": false,
    "ExecuteTime": {
     "end_time": "2024-03-03T14:30:37.282627Z",
     "start_time": "2024-03-03T14:30:37.219370Z"
    }
   },
   "id": "f7f773144a50cd02",
   "execution_count": 19
  },
  {
   "cell_type": "code",
   "outputs": [
    {
     "data": {
      "text/plain": "        Bid         Ask               timestamp  price  quantity  \\\n0        []          [] 2025-01-02 00:00:00.000    269         1   \n1  [[1, 6]]          [] 2025-01-02 00:00:00.279    269         1   \n2  [[1, 6]]  [[800, 1]] 2025-01-02 00:00:01.333    269         1   \n3  [[1, 6]]  [[799, 1]] 2025-01-02 00:00:01.581    269         1   \n4  [[1, 6]]  [[798, 1]] 2025-01-02 00:00:01.643    269         1   \n\n   transaction_price  \n0              267.0  \n1              267.0  \n2              267.0  \n3              267.0  \n4              267.0  ",
      "text/html": "<div>\n<style scoped>\n    .dataframe tbody tr th:only-of-type {\n        vertical-align: middle;\n    }\n\n    .dataframe tbody tr th {\n        vertical-align: top;\n    }\n\n    .dataframe thead th {\n        text-align: right;\n    }\n</style>\n<table border=\"1\" class=\"dataframe\">\n  <thead>\n    <tr style=\"text-align: right;\">\n      <th></th>\n      <th>Bid</th>\n      <th>Ask</th>\n      <th>timestamp</th>\n      <th>price</th>\n      <th>quantity</th>\n      <th>transaction_price</th>\n    </tr>\n  </thead>\n  <tbody>\n    <tr>\n      <th>0</th>\n      <td>[]</td>\n      <td>[]</td>\n      <td>2025-01-02 00:00:00.000</td>\n      <td>269</td>\n      <td>1</td>\n      <td>267.0</td>\n    </tr>\n    <tr>\n      <th>1</th>\n      <td>[[1, 6]]</td>\n      <td>[]</td>\n      <td>2025-01-02 00:00:00.279</td>\n      <td>269</td>\n      <td>1</td>\n      <td>267.0</td>\n    </tr>\n    <tr>\n      <th>2</th>\n      <td>[[1, 6]]</td>\n      <td>[[800, 1]]</td>\n      <td>2025-01-02 00:00:01.333</td>\n      <td>269</td>\n      <td>1</td>\n      <td>267.0</td>\n    </tr>\n    <tr>\n      <th>3</th>\n      <td>[[1, 6]]</td>\n      <td>[[799, 1]]</td>\n      <td>2025-01-02 00:00:01.581</td>\n      <td>269</td>\n      <td>1</td>\n      <td>267.0</td>\n    </tr>\n    <tr>\n      <th>4</th>\n      <td>[[1, 6]]</td>\n      <td>[[798, 1]]</td>\n      <td>2025-01-02 00:00:01.643</td>\n      <td>269</td>\n      <td>1</td>\n      <td>267.0</td>\n    </tr>\n  </tbody>\n</table>\n</div>"
     },
     "execution_count": 20,
     "metadata": {},
     "output_type": "execute_result"
    }
   ],
   "source": [
    "# from here on is completely wrong, a few things I need to do\n",
    "# 1. merge tape into lob -> create a new csv or dataframe?\n",
    "# 2. research strategy that makes the most profit (my current idea is to buy all stock that is below average and sell when is above average (but volumn can be tricky))\n",
    "# 3. I can make simplify assumptions  \n",
    "\n",
    "\n",
    "# Merge the Real Tape and LOB Dataset based on their timestamp columns\n",
    "merged_dataset = pd.merge_asof(lob_dataset.sort_values('timestamp'), \n",
    "                               real_tape.sort_values('timestamp'), \n",
    "                               on='timestamp', \n",
    "                               direction='nearest')\n",
    "\n",
    "# Since the Predicted Tape is already in the correct format, we'll also merge it with the merged_dataset\n",
    "predicted_tape['timestamp'] = pd.to_datetime(predicted_tape['timestamp'])\n",
    "merged_dataset = pd.merge_asof(merged_dataset.sort_values('timestamp'),\n",
    "                               predicted_tape.sort_values('timestamp'),\n",
    "                               on='timestamp',\n",
    "                               direction='nearest',\n",
    "                               suffixes=('', '_predicted'))\n",
    "\n",
    "# Display the first few rows of the merged dataset to verify the merge\n",
    "merged_dataset.head()\n"
   ],
   "metadata": {
    "collapsed": false,
    "ExecuteTime": {
     "end_time": "2024-03-03T14:30:37.366027Z",
     "start_time": "2024-03-03T14:30:37.281841Z"
    }
   },
   "id": "f857cf1d0cafb79a",
   "execution_count": 20
  },
  {
   "cell_type": "code",
   "outputs": [
    {
     "data": {
      "text/plain": "(305876,\n [('Buy', 267, Timestamp('2025-01-02 00:00:11.222000')),\n  ('Buy', 267, Timestamp('2025-01-02 00:00:11.253000')),\n  ('Buy', 267, Timestamp('2025-01-02 00:00:11.470000')),\n  ('Buy', 267, Timestamp('2025-01-02 00:00:11.532000')),\n  ('Buy', 267, Timestamp('2025-01-02 00:00:11.563000'))])"
     },
     "execution_count": 21,
     "metadata": {},
     "output_type": "execute_result"
    }
   ],
   "source": [
    "# Define initial simulation parameters\n",
    "initial_capital = 10000  # Starting capital in USD\n",
    "trade_size = 1  # Number of shares per trade\n",
    "transaction_cost = 0  # Assuming zero transaction costs for simplicity\n",
    "\n",
    "# Initialize simulation variables\n",
    "capital = initial_capital\n",
    "holdings = 0  # Number of shares held\n",
    "\n",
    "# Record of trades made\n",
    "trades = []\n",
    "\n",
    "# Iterate through the merged dataset to simulate trading\n",
    "for i in range(len(merged_dataset) - 1):\n",
    "    current_price = merged_dataset.loc[i, 'price']\n",
    "    next_price = merged_dataset.loc[i + 1, 'transaction_price']  # Using predicted price for perfect foresight\n",
    "    \n",
    "    # Buy if the next price is higher than the current price and we have enough capital\n",
    "    if next_price > current_price and capital >= current_price:\n",
    "        capital -= (current_price * trade_size + transaction_cost)\n",
    "        holdings += trade_size\n",
    "        trades.append(('Buy', current_price, merged_dataset.loc[i, 'timestamp']))\n",
    "    \n",
    "    # Sell if the next price is lower than the current price and we have holdings\n",
    "    elif next_price < current_price and holdings > 0:\n",
    "        capital += (current_price * trade_size - transaction_cost)\n",
    "        holdings -= trade_size\n",
    "        trades.append(('Sell', current_price, merged_dataset.loc[i, 'timestamp']))\n",
    "\n",
    "# Sell any remaining holdings at the last known price\n",
    "if holdings > 0:\n",
    "    final_price = merged_dataset.iloc[-1]['price']\n",
    "    final_timestamp = merged_dataset.iloc[-1]['timestamp']  # Corrected access to the timestamp\n",
    "    capital += holdings * final_price\n",
    "    trades.append(('Sell', final_price, final_timestamp))\n",
    "    holdings = 0\n",
    "\n",
    "# Recalculate the final profit or loss\n",
    "profit_or_loss = capital - initial_capital\n",
    "\n",
    "# Corrected display of the results\n",
    "profit_or_loss, trades[:5]  # Display the first 5 trades to keep the output concise\n"
   ],
   "metadata": {
    "collapsed": false,
    "ExecuteTime": {
     "end_time": "2024-03-03T14:30:40.926657Z",
     "start_time": "2024-03-03T14:30:37.375523Z"
    }
   },
   "id": "ca3124478761ce05",
   "execution_count": 21
  }
 ],
 "metadata": {
  "kernelspec": {
   "display_name": "Python 3",
   "language": "python",
   "name": "python3"
  },
  "language_info": {
   "codemirror_mode": {
    "name": "ipython",
    "version": 2
   },
   "file_extension": ".py",
   "mimetype": "text/x-python",
   "name": "python",
   "nbconvert_exporter": "python",
   "pygments_lexer": "ipython2",
   "version": "2.7.6"
  }
 },
 "nbformat": 4,
 "nbformat_minor": 5
}
