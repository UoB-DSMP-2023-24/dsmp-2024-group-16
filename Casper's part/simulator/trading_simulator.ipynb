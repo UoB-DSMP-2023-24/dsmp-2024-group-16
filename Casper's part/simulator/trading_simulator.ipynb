{
 "cells": [
  {
   "cell_type": "markdown",
   "source": [
    "This simulator would in theory take the prediction of the tape data and \n",
    "\n",
    "I have a few ideas:\n",
    "using the same momentum strategy as last time, basically by looking ahead of the prediction to decide if should buy or sell\n",
    "for the merged lob, we also check the next timestamp to see if say it gets to 10s, so we place our bid or ask\n",
    "the third idea is to merge our prediction with the lob data, and then count the number of matches\n"
   ],
   "metadata": {
    "collapsed": false
   },
   "id": "1ec2cbf5cf2db7c8"
  },
  {
   "cell_type": "code",
   "execution_count": 40,
   "id": "initial_id",
   "metadata": {
    "collapsed": true,
    "ExecuteTime": {
     "end_time": "2024-04-22T09:45:59.784881Z",
     "start_time": "2024-04-22T09:45:59.251710Z"
    }
   },
   "outputs": [
    {
     "data": {
      "text/plain": "(             timestamp  transaction_price\n 0  2025-01-02 00:00:10              267.0\n 1  2025-01-02 00:00:11              268.0\n 2  2025-01-02 00:00:12              270.0\n 3  2025-01-02 00:00:13              267.0\n 4  2025-01-02 00:00:14              267.0,\n    Timestamp       Bid         Ask\n 0      0.000        []          []\n 1      0.279  [[1, 6]]          []\n 2      1.333  [[1, 6]]  [[800, 1]]\n 3      1.581  [[1, 6]]  [[799, 1]]\n 4      1.643  [[1, 6]]  [[798, 1]])"
     },
     "execution_count": 40,
     "metadata": {},
     "output_type": "execute_result"
    }
   ],
   "source": [
    "import pandas as pd\n",
    "\n",
    "# Load the datasets\n",
    "tape_data = pd.read_csv('../predicted_tape.csv')\n",
    "lob_data = pd.read_csv('../merge/merged_lob.csv')\n",
    "\n",
    "# Display the first few rows of each dataset to understand their structure\n",
    "tape_data.head(), lob_data.head()\n"
   ]
  },
  {
   "cell_type": "code",
   "outputs": [
    {
     "data": {
      "text/plain": "(            timestamp  transaction_price  timestamp_seconds\n 0 2025-01-02 00:00:10              267.0                 10\n 1 2025-01-02 00:00:11              268.0                 11\n 2 2025-01-02 00:00:12              270.0                 12\n 3 2025-01-02 00:00:13              267.0                 13\n 4 2025-01-02 00:00:14              267.0                 14,\n    Timestamp                   Bid                             Ask\n 0      0.000                    []                              []\n 1      0.279              [[1, 6]]                              []\n 2      1.333              [[1, 6]]                      [[800, 1]]\n 3      1.581              [[1, 6]]                      [[799, 1]]\n 4      1.643              [[1, 6]]                      [[798, 1]]\n 5      1.736    [[261, 1], [1, 6]]                      [[798, 1]]\n 6      1.984    [[261, 1], [1, 6]]                      [[797, 1]]\n 7      2.015    [[261, 1], [1, 6]]            [[338, 3], [797, 1]]\n 8      2.139    [[261, 1], [1, 6]]  [[297, 5], [338, 3], [797, 1]]\n 9      2.697  [[262, 6], [261, 1]]  [[297, 5], [338, 3], [797, 1]])"
     },
     "execution_count": 41,
     "metadata": {},
     "output_type": "execute_result"
    }
   ],
   "source": [
    "# Convert 'timestamp' in tape_data to seconds since the start of the day\n",
    "tape_data['timestamp'] = pd.to_datetime(tape_data['timestamp'])\n",
    "tape_data['timestamp_seconds'] = tape_data['timestamp'].dt.hour * 3600 + tape_data['timestamp'].dt.minute * 60 + tape_data['timestamp'].dt.second\n",
    "\n",
    "# Convert 'Timestamp' in lob_data to an absolute second count from the start of the day, assuming it starts from zero\n",
    "# lob_data['Timestamp'] = lob_data['Timestamp'].round().astype(int)  # Assuming the timestamps in lob_data are in whole seconds\n",
    "\n",
    "# Display the modified data for verification\n",
    "tape_data.head(), lob_data.head(10)\n"
   ],
   "metadata": {
    "collapsed": false,
    "ExecuteTime": {
     "end_time": "2024-04-22T09:46:02.837324Z",
     "start_time": "2024-04-22T09:46:02.826290Z"
    }
   },
   "id": "dc041307a75298a1",
   "execution_count": 41
  },
  {
   "cell_type": "code",
   "outputs": [
    {
     "data": {
      "text/plain": "            timestamp  transaction_price  timestamp_seconds  Timestamp  \\\n0 2025-01-02 00:00:10              267.0                 10         10   \n1 2025-01-02 00:00:11              268.0                 11         11   \n2 2025-01-02 00:00:12              270.0                 12         12   \n3 2025-01-02 00:00:13              267.0                 13         13   \n4 2025-01-02 00:00:14              267.0                 14         14   \n\n                                                 Bid  \\\n0  [[267, 6], [261, 1], [260, 11], [259, 1], [178...   \n1  [[267, 5], [261, 1], [260, 11], [259, 1], [193...   \n2  [[267, 3], [261, 1], [260, 11], [259, 1], [193...   \n3  [[267, 3], [264, 1], [261, 1], [260, 11], [193...   \n4  [[264, 1], [261, 1], [260, 11], [193, 15], [18...   \n\n                                                 Ask  \n0  [[270, 1], [271, 5], [272, 1], [275, 3], [277,...  \n1  [[269, 1], [271, 5], [275, 8], [277, 2], [281,...  \n2  [[270, 5], [273, 3], [279, 5], [281, 6], [308,...  \n3  [[270, 3], [273, 3], [279, 5], [280, 4], [281,...  \n4  [[273, 3], [278, 4], [279, 5], [282, 2], [744,...  ",
      "text/html": "<div>\n<style scoped>\n    .dataframe tbody tr th:only-of-type {\n        vertical-align: middle;\n    }\n\n    .dataframe tbody tr th {\n        vertical-align: top;\n    }\n\n    .dataframe thead th {\n        text-align: right;\n    }\n</style>\n<table border=\"1\" class=\"dataframe\">\n  <thead>\n    <tr style=\"text-align: right;\">\n      <th></th>\n      <th>timestamp</th>\n      <th>transaction_price</th>\n      <th>timestamp_seconds</th>\n      <th>Timestamp</th>\n      <th>Bid</th>\n      <th>Ask</th>\n    </tr>\n  </thead>\n  <tbody>\n    <tr>\n      <th>0</th>\n      <td>2025-01-02 00:00:10</td>\n      <td>267.0</td>\n      <td>10</td>\n      <td>10</td>\n      <td>[[267, 6], [261, 1], [260, 11], [259, 1], [178...</td>\n      <td>[[270, 1], [271, 5], [272, 1], [275, 3], [277,...</td>\n    </tr>\n    <tr>\n      <th>1</th>\n      <td>2025-01-02 00:00:11</td>\n      <td>268.0</td>\n      <td>11</td>\n      <td>11</td>\n      <td>[[267, 5], [261, 1], [260, 11], [259, 1], [193...</td>\n      <td>[[269, 1], [271, 5], [275, 8], [277, 2], [281,...</td>\n    </tr>\n    <tr>\n      <th>2</th>\n      <td>2025-01-02 00:00:12</td>\n      <td>270.0</td>\n      <td>12</td>\n      <td>12</td>\n      <td>[[267, 3], [261, 1], [260, 11], [259, 1], [193...</td>\n      <td>[[270, 5], [273, 3], [279, 5], [281, 6], [308,...</td>\n    </tr>\n    <tr>\n      <th>3</th>\n      <td>2025-01-02 00:00:13</td>\n      <td>267.0</td>\n      <td>13</td>\n      <td>13</td>\n      <td>[[267, 3], [264, 1], [261, 1], [260, 11], [193...</td>\n      <td>[[270, 3], [273, 3], [279, 5], [280, 4], [281,...</td>\n    </tr>\n    <tr>\n      <th>4</th>\n      <td>2025-01-02 00:00:14</td>\n      <td>267.0</td>\n      <td>14</td>\n      <td>14</td>\n      <td>[[264, 1], [261, 1], [260, 11], [193, 15], [18...</td>\n      <td>[[273, 3], [278, 4], [279, 5], [282, 2], [744,...</td>\n    </tr>\n  </tbody>\n</table>\n</div>"
     },
     "execution_count": 12,
     "metadata": {},
     "output_type": "execute_result"
    }
   ],
   "source": [
    "# Merge tape_data and lob_data based on the closest matching timestamps\n",
    "# We'll use the merge_asof method which is designed to merge on nearest key rather than exact matches\n",
    "\n",
    "# Ensure both dataframes are sorted by their respective time columns\n",
    "tape_data = tape_data.sort_values(by='timestamp_seconds')\n",
    "lob_data = lob_data.sort_values(by='Timestamp')\n",
    "\n",
    "tape_data['timestamp_seconds'] = tape_data['timestamp_seconds'].astype('int64')\n",
    "# Perform an asof merge, looking for the nearest previous or equal timestamp in lob_data for each entry in tape_data\n",
    "merged_data = pd.merge_asof(tape_data, lob_data, left_on='timestamp_seconds', right_on='Timestamp')\n",
    "\n",
    "# Display the merged data to verify correctness\n",
    "merged_data.head()\n"
   ],
   "metadata": {
    "collapsed": false,
    "ExecuteTime": {
     "end_time": "2024-04-21T22:56:41.998702Z",
     "start_time": "2024-04-21T22:56:41.962690Z"
    }
   },
   "id": "ae7fd0eb5abd60d7",
   "execution_count": 12
  },
  {
   "cell_type": "code",
   "outputs": [
    {
     "name": "stdout",
     "output_type": "stream",
     "text": [
      "shabi\n"
     ]
    },
    {
     "data": {
      "text/plain": "99087"
     },
     "execution_count": 55,
     "metadata": {},
     "output_type": "execute_result"
    }
   ],
   "source": [
    "import ast  # To safely evaluate string representation of lists\n",
    "# \n",
    "# def momentum_trading_revised(data, initial_capital):\n",
    "#     capital = initial_capital\n",
    "#     position = 0  # No position initially\n",
    "# \n",
    "#     for i in range(len(data) - 1):\n",
    "#         current_price = data['transaction_price'].iloc[i]\n",
    "#         next_price = data['transaction_price'].iloc[i + 1]\n",
    "# \n",
    "#         # Parse bid and ask lists from the current row\n",
    "#         current_bids = ast.literal_eval(data['Bid'].iloc[i])\n",
    "#         current_asks = ast.literal_eval(data['Ask'].iloc[i])\n",
    "# \n",
    "#         # Determine the best bid and ask prices and volumes\n",
    "#         if current_bids:\n",
    "#             best_bid = max(current_bids, key=lambda x: x[0])  # Highest bid price\n",
    "#             best_bid_price, best_bid_volume = best_bid\n",
    "#         else:\n",
    "#             best_bid_price, best_bid_volume = 0, 0\n",
    "#         \n",
    "#         if current_asks:\n",
    "#             best_ask = min(current_asks, key=lambda x: x[0])  # Lowest ask price\n",
    "#             best_ask_price, best_ask_volume = best_ask\n",
    "#         else:\n",
    "#             best_ask_price, best_ask_volume = float('inf'), 0\n",
    "# \n",
    "#         # Buy if next price is higher than current price and there are available asks\n",
    "#         if next_price > current_price and next_price > best_ask_price:\n",
    "#             # max_affordable_volume = capital / best_ask_price\n",
    "#             buy_volume = 1 # min(max_affordable_volume, best_ask_volume)\n",
    "#             capital -= buy_volume * best_ask_price\n",
    "#             position += buy_volume\n",
    "# \n",
    "#         # Sell if next price is lower than current price, there are available bids, and position > 0\n",
    "#         elif next_price < current_price and position > 0 and best_bid_price > next_price:\n",
    "#             sell_volume = 1 # min(position, best_bid_volume)\n",
    "#             capital += sell_volume * best_bid_price\n",
    "#             position -= sell_volume\n",
    "# \n",
    "#     # Final sell at the last available bid price to liquidate position\n",
    "#     if position > 0 and ast.literal_eval(data['Bid'].iloc[-1]):\n",
    "#         final_bid = max(ast.literal_eval(data['Bid'].iloc[-1]), key=lambda x: x[0])\n",
    "#         final_price = final_bid[0]\n",
    "#         capital += position * final_price\n",
    "# \n",
    "#     return capital\n",
    "# \n",
    "# # Initial capital to start with\n",
    "# initial_capital = 10000  # For example, $10,000\n",
    "# \n",
    "# # Run the trading simulator\n",
    "# final_capital = momentum_trading_revised(merged_data, initial_capital)\n",
    "# final_capital\n",
    "def momentum_trading_with_pointers(tape_data, lob_data, initial_capital):\n",
    "    capital = initial_capital\n",
    "    position = 0  # No position initially\n",
    "    \n",
    "    tape_index = 0\n",
    "    lob_index = 0\n",
    "    tape_len = len(tape_data)\n",
    "    lob_len = len(lob_data)\n",
    "\n",
    "    while tape_index < tape_len - 1 and lob_index < lob_len:\n",
    "        # Current positions in both datasets\n",
    "        tape_ts = tape_data['timestamp_seconds'].iloc[tape_index]\n",
    "        lob_ts = lob_data['Timestamp'].iloc[lob_index]\n",
    "\n",
    "        # Move LOB pointer to match or exceed tape timestamp\n",
    "        # while lob_index < lob_len - 1 and lob_data['Timestamp'].iloc[lob_index + 1] <= tape_ts:\n",
    "        #     lob_index += 1\n",
    "        if lob_index < lob_len - 1 and lob_ts <= tape_ts:\n",
    "            lob_index += 1\n",
    "        elif tape_data['timestamp_seconds'].iloc[tape_index + 1] > lob_data['Timestamp'].iloc[lob_index] > tape_ts:\n",
    "            \n",
    "        # If timestamps match, execute trading logic\n",
    "        # if lob_ts == tape_ts:\n",
    "            current_price = tape_data['transaction_price'].iloc[tape_index]\n",
    "            next_price = tape_data['transaction_price'].iloc[tape_index + 1] if tape_index + 1 < tape_len else current_price\n",
    "    \n",
    "            # Parse bid and ask lists\n",
    "            current_bids = ast.literal_eval(lob_data['Bid'].iloc[lob_index])\n",
    "            current_asks = ast.literal_eval(lob_data['Ask'].iloc[lob_index])\n",
    "    \n",
    "            # Determine the best bid and ask\n",
    "            if current_bids:\n",
    "                best_bid = max(current_bids, key=lambda x: x[0])\n",
    "                best_bid_price, best_bid_volume = best_bid\n",
    "            else:\n",
    "                best_bid_price, best_bid_volume = 0, 0\n",
    "            \n",
    "            if current_asks:\n",
    "                best_ask = min(current_asks, key=lambda x: x[0])\n",
    "                best_ask_price, best_ask_volume = best_ask\n",
    "            else:\n",
    "                best_ask_price, best_ask_volume = float('inf'), 0\n",
    "    \n",
    "            # Buy if predicted next price is higher than current and best ask\n",
    "            if next_price > current_price and next_price > best_ask_price:\n",
    "                buy_volume = 1  # Simplified to always trade one unit\n",
    "                capital -= buy_volume * best_ask_price\n",
    "                position += buy_volume\n",
    "    \n",
    "            # Sell if predicted next price is lower than current and best bid\n",
    "            elif next_price < current_price and position > 0 and best_bid_price > next_price:\n",
    "                sell_volume = 1  # Simplified to always trade one unit\n",
    "                capital += sell_volume * best_bid_price\n",
    "                position -= sell_volume\n",
    "                \n",
    "            lob_index += 1\n",
    "        else:\n",
    "            tape_index += 1\n",
    "    print(\"shabi\")\n",
    "    # Final sell off all positions at last known bid price\n",
    "    if position > 0 and ast.literal_eval(lob_data['Bid'].iloc[lob_index]):\n",
    "        final_bid = max(ast.literal_eval(lob_data['Bid'].iloc[lob_index]), key=lambda x: x[0])\n",
    "        final_price = final_bid[0]\n",
    "        capital += position * final_price\n",
    "\n",
    "    return capital\n",
    "\n",
    "initial_capital = 10000  # For example, $10,000\n",
    "\n",
    "# Run the improved trading simulator with the double pointer approach\n",
    "final_capital = momentum_trading_with_pointers(tape_data, lob_data, initial_capital)\n",
    "final_capital\n"
   ],
   "metadata": {
    "collapsed": false,
    "ExecuteTime": {
     "end_time": "2024-04-22T10:34:04.921067Z",
     "start_time": "2024-04-22T10:22:23.062912Z"
    }
   },
   "id": "f7ac5e5e45a94efc",
   "execution_count": 55
  }
 ],
 "metadata": {
  "kernelspec": {
   "display_name": "Python 3",
   "language": "python",
   "name": "python3"
  },
  "language_info": {
   "codemirror_mode": {
    "name": "ipython",
    "version": 2
   },
   "file_extension": ".py",
   "mimetype": "text/x-python",
   "name": "python",
   "nbconvert_exporter": "python",
   "pygments_lexer": "ipython2",
   "version": "2.7.6"
  }
 },
 "nbformat": 4,
 "nbformat_minor": 5
}
