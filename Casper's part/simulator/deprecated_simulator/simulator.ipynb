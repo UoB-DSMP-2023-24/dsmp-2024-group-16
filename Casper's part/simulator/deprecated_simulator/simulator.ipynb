{
 "cells": [
  {
   "cell_type": "code",
   "outputs": [],
   "source": [
    "import pandas as pd\n",
    "import numpy as np\n",
    "import matplotlib.pyplot as plt\n",
    "import ast"
   ],
   "metadata": {
    "collapsed": false,
    "ExecuteTime": {
     "end_time": "2024-03-03T14:01:55.816385Z",
     "start_time": "2024-03-03T14:01:55.805931Z"
    }
   },
   "id": "e42c95a64f9c6eb4",
   "execution_count": 46
  },
  {
   "cell_type": "markdown",
   "source": [
    "1.loading the data"
   ],
   "metadata": {
    "collapsed": false
   },
   "id": "7e746267603032d8"
  },
  {
   "cell_type": "code",
   "execution_count": 47,
   "id": "initial_id",
   "metadata": {
    "collapsed": true,
    "ExecuteTime": {
     "end_time": "2024-03-03T14:01:56.255517Z",
     "start_time": "2024-03-03T14:01:55.810200Z"
    }
   },
   "outputs": [
    {
     "data": {
      "text/plain": "(             timestamp  transaction_price\n 0  2025-01-02 00:00:10              267.0\n 1  2025-01-02 00:00:11              268.0\n 2  2025-01-02 00:00:12              270.0\n 3  2025-01-02 00:00:13              267.0\n 4  2025-01-02 00:00:14              267.0,\n    10.881   267   1\n 0  11.067   269   1\n 1  11.222   267   2\n 2  12.338   270   2\n 3  13.733   267   3\n 4  18.321   265   2,\n    Unnamed: 0                     timestamp       Bid         Ask\n 0           0 2025-01-02 00:00:00.000000000        []          []\n 1           1 2025-01-02 00:00:00.279000064  [[1, 6]]          []\n 2           2 2025-01-02 00:00:01.332999936  [[1, 6]]  [[800, 1]]\n 3           3 2025-01-02 00:00:01.581000192  [[1, 6]]  [[799, 1]]\n 4           4 2025-01-02 00:00:01.642999808  [[1, 6]]  [[798, 1]])"
     },
     "execution_count": 47,
     "metadata": {},
     "output_type": "execute_result"
    }
   ],
   "source": [
    "# Load the datasets\n",
    "predicted_tape_path = '../resampled_data_ffill.csv'\n",
    "real_tape_path = '../Tapes/UoB_Set01_2025-01-02tapes.csv'\n",
    "lob_dataset_path = '../result.csv'\n",
    "\n",
    "predicted_tape = pd.read_csv(predicted_tape_path)\n",
    "real_tape = pd.read_csv(real_tape_path)\n",
    "lob_dataset = pd.read_csv(lob_dataset_path)\n",
    "\n",
    "# Correcting the 'Timestamp' column name in the LOB dataset\n",
    "lob_dataset.rename(columns={'Timestamp': 'timestamp'}, inplace=True)\n",
    "lob_dataset['timestamp'] = pd.to_datetime(lob_dataset['timestamp'], unit='s', origin=pd.Timestamp('2025-01-02'))\n",
    "\n",
    "# Display the first few rows of each dataset to understand their structure\n",
    "predicted_tape.head(), real_tape.head(), lob_dataset.head()\n"
   ]
  },
  {
   "cell_type": "markdown",
   "source": [
    "2.Convert Timestamps and Merge Data"
   ],
   "metadata": {
    "collapsed": false
   },
   "id": "c65b9f1e8f7fb5e1"
  },
  {
   "cell_type": "code",
   "outputs": [
    {
     "data": {
      "text/plain": "   timestamp  price  quantity\n0     10.881    267         1\n1     11.067    269         1\n2     11.222    267         2\n3     12.338    270         2\n4     13.733    267         3",
      "text/html": "<div>\n<style scoped>\n    .dataframe tbody tr th:only-of-type {\n        vertical-align: middle;\n    }\n\n    .dataframe tbody tr th {\n        vertical-align: top;\n    }\n\n    .dataframe thead th {\n        text-align: right;\n    }\n</style>\n<table border=\"1\" class=\"dataframe\">\n  <thead>\n    <tr style=\"text-align: right;\">\n      <th></th>\n      <th>timestamp</th>\n      <th>price</th>\n      <th>quantity</th>\n    </tr>\n  </thead>\n  <tbody>\n    <tr>\n      <th>0</th>\n      <td>10.881</td>\n      <td>267</td>\n      <td>1</td>\n    </tr>\n    <tr>\n      <th>1</th>\n      <td>11.067</td>\n      <td>269</td>\n      <td>1</td>\n    </tr>\n    <tr>\n      <th>2</th>\n      <td>11.222</td>\n      <td>267</td>\n      <td>2</td>\n    </tr>\n    <tr>\n      <th>3</th>\n      <td>12.338</td>\n      <td>270</td>\n      <td>2</td>\n    </tr>\n    <tr>\n      <th>4</th>\n      <td>13.733</td>\n      <td>267</td>\n      <td>3</td>\n    </tr>\n  </tbody>\n</table>\n</div>"
     },
     "execution_count": 48,
     "metadata": {},
     "output_type": "execute_result"
    }
   ],
   "source": [
    "# Attempt to reload the real tape with a more informed approach\n",
    "# Assuming the first column is indeed a timestamp but in a different format or scale,\n",
    "# and the file lacks a header, we will manually assign column names based on assumption.\n",
    "\n",
    "real_tape_columns = ['timestamp', 'price', 'quantity']\n",
    "real_tape = pd.read_csv(real_tape_path, header=None, names=real_tape_columns)\n",
    "\n",
    "# Display the first few rows again with the new column names\n",
    "real_tape.head()\n"
   ],
   "metadata": {
    "collapsed": false,
    "ExecuteTime": {
     "end_time": "2024-03-03T14:01:56.262927Z",
     "start_time": "2024-03-03T14:01:56.254878Z"
    }
   },
   "id": "5f3d3edda9fed666",
   "execution_count": 48
  },
  {
   "cell_type": "code",
   "outputs": [
    {
     "data": {
      "text/plain": "   price  quantity                datetime\n0    267         1 2025-01-02 00:00:10.881\n1    269         1 2025-01-02 00:00:11.067\n2    267         2 2025-01-02 00:00:11.222\n3    270         2 2025-01-02 00:00:12.338\n4    267         3 2025-01-02 00:00:13.733",
      "text/html": "<div>\n<style scoped>\n    .dataframe tbody tr th:only-of-type {\n        vertical-align: middle;\n    }\n\n    .dataframe tbody tr th {\n        vertical-align: top;\n    }\n\n    .dataframe thead th {\n        text-align: right;\n    }\n</style>\n<table border=\"1\" class=\"dataframe\">\n  <thead>\n    <tr style=\"text-align: right;\">\n      <th></th>\n      <th>price</th>\n      <th>quantity</th>\n      <th>datetime</th>\n    </tr>\n  </thead>\n  <tbody>\n    <tr>\n      <th>0</th>\n      <td>267</td>\n      <td>1</td>\n      <td>2025-01-02 00:00:10.881</td>\n    </tr>\n    <tr>\n      <th>1</th>\n      <td>269</td>\n      <td>1</td>\n      <td>2025-01-02 00:00:11.067</td>\n    </tr>\n    <tr>\n      <th>2</th>\n      <td>267</td>\n      <td>2</td>\n      <td>2025-01-02 00:00:11.222</td>\n    </tr>\n    <tr>\n      <th>3</th>\n      <td>270</td>\n      <td>2</td>\n      <td>2025-01-02 00:00:12.338</td>\n    </tr>\n    <tr>\n      <th>4</th>\n      <td>267</td>\n      <td>3</td>\n      <td>2025-01-02 00:00:13.733</td>\n    </tr>\n  </tbody>\n</table>\n</div>"
     },
     "execution_count": 49,
     "metadata": {},
     "output_type": "execute_result"
    }
   ],
   "source": [
    "from datetime import datetime, timedelta\n",
    "\n",
    "# Assuming the real tape's timestamps are in seconds since the start of the trading day\n",
    "# Convert these to datetime format with base date 2025-01-02\n",
    "base_date = datetime(2025, 1, 2)\n",
    "real_tape['datetime'] = real_tape['timestamp'].apply(lambda x: base_date + timedelta(seconds=x))\n",
    "\n",
    "# Drop the original 'timestamp' column to avoid confusion\n",
    "real_tape.drop(columns=['timestamp'], inplace=True)\n",
    "\n",
    "# Display the first few rows to verify the conversion\n",
    "real_tape.head()\n"
   ],
   "metadata": {
    "collapsed": false,
    "ExecuteTime": {
     "end_time": "2024-03-03T14:01:56.294054Z",
     "start_time": "2024-03-03T14:01:56.268984Z"
    }
   },
   "id": "68f09056b0047076",
   "execution_count": 49
  },
  {
   "cell_type": "code",
   "outputs": [
    {
     "data": {
      "text/plain": "    Unnamed: 0                     timestamp  \\\n0            0 2025-01-02 00:00:00.000000000   \n1            1 2025-01-02 00:00:00.279000064   \n2            2 2025-01-02 00:00:01.332999936   \n3            3 2025-01-02 00:00:01.581000192   \n4            4 2025-01-02 00:00:01.642999808   \n..         ...                           ...   \n65          65 2025-01-02 00:00:10.819000064   \n66          66 2025-01-02 00:00:10.912000000   \n67          67 2025-01-02 00:00:11.036000000   \n68          68 2025-01-02 00:00:11.066999808   \n69          69 2025-01-02 00:00:11.098000128   \n\n                                                  Bid  \\\n0                                                  []   \n1                                            [[1, 6]]   \n2                                            [[1, 6]]   \n3                                            [[1, 6]]   \n4                                            [[1, 6]]   \n..                                                ...   \n65  [[267, 6], [261, 1], [260, 11], [259, 1], [193...   \n66  [[267, 5], [261, 1], [260, 11], [259, 1], [193...   \n67  [[267, 5], [261, 1], [260, 11], [259, 1], [193...   \n68  [[267, 5], [261, 1], [260, 11], [259, 1], [193...   \n69  [[267, 5], [261, 1], [260, 11], [259, 1], [193...   \n\n                                                  Ask  price  quantity  \\\n0                                                  []    267         1   \n1                                                  []    267         1   \n2                                          [[800, 1]]    267         1   \n3                                          [[799, 1]]    267         1   \n4                                          [[798, 1]]    267         1   \n..                                                ...    ...       ...   \n65  [[268, 1], [269, 1], [271, 5], [275, 8], [277,...    267         1   \n66  [[269, 1], [271, 5], [275, 8], [277, 2], [281,...    267         1   \n67  [[269, 1], [271, 5], [275, 8], [277, 2], [281,...    269         1   \n68  [[269, 1], [271, 5], [275, 8], [281, 6], [584,...    269         1   \n69           [[271, 5], [275, 8], [281, 6], [584, 3]]    269         1   \n\n                  datetime  \n0  2025-01-02 00:00:10.881  \n1  2025-01-02 00:00:10.881  \n2  2025-01-02 00:00:10.881  \n3  2025-01-02 00:00:10.881  \n4  2025-01-02 00:00:10.881  \n..                     ...  \n65 2025-01-02 00:00:10.881  \n66 2025-01-02 00:00:10.881  \n67 2025-01-02 00:00:11.067  \n68 2025-01-02 00:00:11.067  \n69 2025-01-02 00:00:11.067  \n\n[70 rows x 7 columns]",
      "text/html": "<div>\n<style scoped>\n    .dataframe tbody tr th:only-of-type {\n        vertical-align: middle;\n    }\n\n    .dataframe tbody tr th {\n        vertical-align: top;\n    }\n\n    .dataframe thead th {\n        text-align: right;\n    }\n</style>\n<table border=\"1\" class=\"dataframe\">\n  <thead>\n    <tr style=\"text-align: right;\">\n      <th></th>\n      <th>Unnamed: 0</th>\n      <th>timestamp</th>\n      <th>Bid</th>\n      <th>Ask</th>\n      <th>price</th>\n      <th>quantity</th>\n      <th>datetime</th>\n    </tr>\n  </thead>\n  <tbody>\n    <tr>\n      <th>0</th>\n      <td>0</td>\n      <td>2025-01-02 00:00:00.000000000</td>\n      <td>[]</td>\n      <td>[]</td>\n      <td>267</td>\n      <td>1</td>\n      <td>2025-01-02 00:00:10.881</td>\n    </tr>\n    <tr>\n      <th>1</th>\n      <td>1</td>\n      <td>2025-01-02 00:00:00.279000064</td>\n      <td>[[1, 6]]</td>\n      <td>[]</td>\n      <td>267</td>\n      <td>1</td>\n      <td>2025-01-02 00:00:10.881</td>\n    </tr>\n    <tr>\n      <th>2</th>\n      <td>2</td>\n      <td>2025-01-02 00:00:01.332999936</td>\n      <td>[[1, 6]]</td>\n      <td>[[800, 1]]</td>\n      <td>267</td>\n      <td>1</td>\n      <td>2025-01-02 00:00:10.881</td>\n    </tr>\n    <tr>\n      <th>3</th>\n      <td>3</td>\n      <td>2025-01-02 00:00:01.581000192</td>\n      <td>[[1, 6]]</td>\n      <td>[[799, 1]]</td>\n      <td>267</td>\n      <td>1</td>\n      <td>2025-01-02 00:00:10.881</td>\n    </tr>\n    <tr>\n      <th>4</th>\n      <td>4</td>\n      <td>2025-01-02 00:00:01.642999808</td>\n      <td>[[1, 6]]</td>\n      <td>[[798, 1]]</td>\n      <td>267</td>\n      <td>1</td>\n      <td>2025-01-02 00:00:10.881</td>\n    </tr>\n    <tr>\n      <th>...</th>\n      <td>...</td>\n      <td>...</td>\n      <td>...</td>\n      <td>...</td>\n      <td>...</td>\n      <td>...</td>\n      <td>...</td>\n    </tr>\n    <tr>\n      <th>65</th>\n      <td>65</td>\n      <td>2025-01-02 00:00:10.819000064</td>\n      <td>[[267, 6], [261, 1], [260, 11], [259, 1], [193...</td>\n      <td>[[268, 1], [269, 1], [271, 5], [275, 8], [277,...</td>\n      <td>267</td>\n      <td>1</td>\n      <td>2025-01-02 00:00:10.881</td>\n    </tr>\n    <tr>\n      <th>66</th>\n      <td>66</td>\n      <td>2025-01-02 00:00:10.912000000</td>\n      <td>[[267, 5], [261, 1], [260, 11], [259, 1], [193...</td>\n      <td>[[269, 1], [271, 5], [275, 8], [277, 2], [281,...</td>\n      <td>267</td>\n      <td>1</td>\n      <td>2025-01-02 00:00:10.881</td>\n    </tr>\n    <tr>\n      <th>67</th>\n      <td>67</td>\n      <td>2025-01-02 00:00:11.036000000</td>\n      <td>[[267, 5], [261, 1], [260, 11], [259, 1], [193...</td>\n      <td>[[269, 1], [271, 5], [275, 8], [277, 2], [281,...</td>\n      <td>269</td>\n      <td>1</td>\n      <td>2025-01-02 00:00:11.067</td>\n    </tr>\n    <tr>\n      <th>68</th>\n      <td>68</td>\n      <td>2025-01-02 00:00:11.066999808</td>\n      <td>[[267, 5], [261, 1], [260, 11], [259, 1], [193...</td>\n      <td>[[269, 1], [271, 5], [275, 8], [281, 6], [584,...</td>\n      <td>269</td>\n      <td>1</td>\n      <td>2025-01-02 00:00:11.067</td>\n    </tr>\n    <tr>\n      <th>69</th>\n      <td>69</td>\n      <td>2025-01-02 00:00:11.098000128</td>\n      <td>[[267, 5], [261, 1], [260, 11], [259, 1], [193...</td>\n      <td>[[271, 5], [275, 8], [281, 6], [584, 3]]</td>\n      <td>269</td>\n      <td>1</td>\n      <td>2025-01-02 00:00:11.067</td>\n    </tr>\n  </tbody>\n</table>\n<p>70 rows × 7 columns</p>\n</div>"
     },
     "execution_count": 50,
     "metadata": {},
     "output_type": "execute_result"
    }
   ],
   "source": [
    "# Convert the LOB dataset's timestamp column to datetime format for accurate merging\n",
    "lob_dataset['timestamp'] = pd.to_datetime(lob_dataset['timestamp'])\n",
    "\n",
    "# Merge the Real Tape and LOB Dataset based on their datetime/timestamp columns\n",
    "merged_dataset = pd.merge_asof(lob_dataset.sort_values('timestamp'), \n",
    "                               real_tape.sort_values('datetime'), \n",
    "                               left_on='timestamp', \n",
    "                               right_on='datetime', \n",
    "                               direction='nearest')\n",
    "\n",
    "# Display the first few rows of the merged dataset to verify the merge\n",
    "merged_dataset.head(70)\n"
   ],
   "metadata": {
    "collapsed": false,
    "ExecuteTime": {
     "end_time": "2024-03-03T14:01:56.365428Z",
     "start_time": "2024-03-03T14:01:56.285592Z"
    }
   },
   "id": "a756793e79290437",
   "execution_count": 50
  },
  {
   "cell_type": "code",
   "outputs": [
    {
     "data": {
      "text/plain": "(38201,\n 28201,\n [('Buy', 267),\n  ('Sell', 269),\n  ('Buy', 267),\n  ('Sell', 270),\n  ('Buy', 265),\n  ('Sell', 266),\n  ('Buy', 261),\n  ('Sell', 264),\n  ('Buy', 263),\n  ('Sell', 268)])"
     },
     "execution_count": 51,
     "metadata": {},
     "output_type": "execute_result"
    }
   ],
   "source": [
    "# Define initial simulation parameters\n",
    "initial_capital = 10000\n",
    "trade_size = 1  # Assume we trade 1 share/contract per trade for simplicity\n",
    "transaction_cost = 0  # Assume $0 for simplicity\n",
    "\n",
    "# Initialize variables for the simulation\n",
    "capital = initial_capital\n",
    "holdings = 0  # Number of shares/contracts held\n",
    "\n",
    "# List to track each trade and its impact\n",
    "trades = []\n",
    "\n",
    "# Iterate through the merged dataset to identify and execute trades\n",
    "for i in range(len(merged_dataset) - 1):\n",
    "    current_price = merged_dataset.loc[i, 'price']\n",
    "    next_price = merged_dataset.loc[i + 1, 'price']\n",
    "    \n",
    "    if next_price > current_price and capital >= current_price:\n",
    "        # Buy scenario - Buy 1 share/contract if the next price is higher and we have enough capital\n",
    "        capital -= (current_price + transaction_cost)\n",
    "        holdings += trade_size\n",
    "        trades.append(('Buy', current_price))\n",
    "    elif next_price < current_price and holdings > 0:\n",
    "        # Sell scenario - Sell 1 share/contract if the next price is lower and we have holdings\n",
    "        capital += (current_price - transaction_cost)\n",
    "        holdings -= trade_size\n",
    "        trades.append(('Sell', current_price))\n",
    "\n",
    "# Finalize simulation by selling any remaining holdings at the last known price\n",
    "if holdings > 0:\n",
    "    final_price = merged_dataset.iloc[-1]['price']\n",
    "    capital += holdings * final_price\n",
    "    trades.append(('Sell', final_price))\n",
    "    holdings = 0\n",
    "\n",
    "# Calculate final performance\n",
    "final_capital = capital\n",
    "profit_or_loss = final_capital - initial_capital\n",
    "\n",
    "# Display the results\n",
    "final_capital, profit_or_loss, trades[:10]  # Display the first 10 trades to keep the output manageable\n"
   ],
   "metadata": {
    "collapsed": false,
    "ExecuteTime": {
     "end_time": "2024-03-03T14:01:58.689701Z",
     "start_time": "2024-03-03T14:01:56.351761Z"
    }
   },
   "id": "6d068e45b57e9f6",
   "execution_count": 51
  }
 ],
 "metadata": {
  "kernelspec": {
   "display_name": "Python 3",
   "language": "python",
   "name": "python3"
  },
  "language_info": {
   "codemirror_mode": {
    "name": "ipython",
    "version": 2
   },
   "file_extension": ".py",
   "mimetype": "text/x-python",
   "name": "python",
   "nbconvert_exporter": "python",
   "pygments_lexer": "ipython2",
   "version": "2.7.6"
  }
 },
 "nbformat": 4,
 "nbformat_minor": 5
}
